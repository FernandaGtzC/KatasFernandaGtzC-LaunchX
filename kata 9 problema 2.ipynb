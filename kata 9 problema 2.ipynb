{
 "cells": [
  {
   "cell_type": "code",
   "execution_count": 4,
   "metadata": {},
   "outputs": [
    {
     "name": "stdout",
     "output_type": "stream",
     "text": [
      "Reporte:\n",
      "    Hora de prelanzamiento: 9:00\n",
      "    Tiempo de vuelo: 10horas\n",
      "    Destino: Luna\n",
      "    Tanque externo: 100% \n",
      "    Tanque interno: 100% \n",
      "    \n"
     ]
    },
    {
     "ename": "TypeError",
     "evalue": "reporte() got multiple values for argument 'tanque_externo'",
     "output_type": "error",
     "traceback": [
      "\u001b[1;31m---------------------------------------------------------------------------\u001b[0m",
      "\u001b[1;31mTypeError\u001b[0m                                 Traceback (most recent call last)",
      "\u001b[1;32mUntitled-1.ipynb Cell 1'\u001b[0m in \u001b[0;36m<module>\u001b[1;34m\u001b[0m\n\u001b[0;32m     <a href='vscode-notebook-cell:Untitled-1.ipynb?jupyter-notebook#ch0000000untitled?line=10'>11</a>\u001b[0m \u001b[39mdef\u001b[39;00m \u001b[39mreporte2\u001b[39m (destino, minutos, reserva_gasolina):\n\u001b[0;32m     <a href='vscode-notebook-cell:Untitled-1.ipynb?jupyter-notebook#ch0000000untitled?line=11'>12</a>\u001b[0m     \u001b[39mreturn\u001b[39;00m \u001b[39mf\u001b[39m\u001b[39m\"\"\"\u001b[39m\n\u001b[0;32m     <a href='vscode-notebook-cell:Untitled-1.ipynb?jupyter-notebook#ch0000000untitled?line=12'>13</a>\u001b[0m \u001b[39m    Destino: \u001b[39m\u001b[39m{\u001b[39;00mdestino\u001b[39m}\u001b[39;00m\n\u001b[0;32m     <a href='vscode-notebook-cell:Untitled-1.ipynb?jupyter-notebook#ch0000000untitled?line=13'>14</a>\u001b[0m \u001b[39m    Tiempo de vuelo: \u001b[39m\u001b[39m{\u001b[39;00m\u001b[39msum\u001b[39m(minutos)\u001b[39m}\u001b[39;00m\u001b[39mminutos\u001b[39m\n\u001b[0;32m     <a href='vscode-notebook-cell:Untitled-1.ipynb?jupyter-notebook#ch0000000untitled?line=14'>15</a>\u001b[0m \u001b[39m    Total gasolina: \u001b[39m\u001b[39m{\u001b[39;00m\u001b[39msum\u001b[39m(reserva_gasolina\u001b[39m.\u001b[39mvalues())\u001b[39m}\u001b[39;00m\u001b[39m% \u001b[39m\n\u001b[0;32m     <a href='vscode-notebook-cell:Untitled-1.ipynb?jupyter-notebook#ch0000000untitled?line=15'>16</a>\u001b[0m \u001b[39m    \u001b[39m\u001b[39m\"\"\"\u001b[39m\n\u001b[1;32m---> <a href='vscode-notebook-cell:Untitled-1.ipynb?jupyter-notebook#ch0000000untitled?line=16'>17</a>\u001b[0m \u001b[39mprint\u001b[39m(reporte(\u001b[39m\"\u001b[39;49m\u001b[39mLuna\u001b[39;49m\u001b[39m\"\u001b[39;49m, \u001b[39m90\u001b[39;49m, \u001b[39m50\u001b[39;49m, \u001b[39m50\u001b[39;49m, tanque_interno\u001b[39m=\u001b[39;49m\u001b[39m100\u001b[39;49m, tanque_externo\u001b[39m=\u001b[39;49m\u001b[39m100\u001b[39;49m))\n\u001b[0;32m     <a href='vscode-notebook-cell:Untitled-1.ipynb?jupyter-notebook#ch0000000untitled?line=18'>19</a>\u001b[0m \u001b[39mdef\u001b[39;00m \u001b[39mreporte3\u001b[39m (destino, minutos, reserva_gasolina):\n\u001b[0;32m     <a href='vscode-notebook-cell:Untitled-1.ipynb?jupyter-notebook#ch0000000untitled?line=19'>20</a>\u001b[0m     principal \u001b[39m=\u001b[39m \u001b[39mf\u001b[39m\u001b[39m\"\"\"\u001b[39m\n\u001b[0;32m     <a href='vscode-notebook-cell:Untitled-1.ipynb?jupyter-notebook#ch0000000untitled?line=20'>21</a>\u001b[0m \u001b[39m    Destino: \u001b[39m\u001b[39m{\u001b[39;00mdestino\u001b[39m}\u001b[39;00m\n\u001b[0;32m     <a href='vscode-notebook-cell:Untitled-1.ipynb?jupyter-notebook#ch0000000untitled?line=21'>22</a>\u001b[0m \u001b[39m    Tiempo de vuelo: \u001b[39m\u001b[39m{\u001b[39;00m\u001b[39msum\u001b[39m(minutos)\u001b[39m}\u001b[39;00m\u001b[39m minutos\u001b[39m\n\u001b[0;32m     <a href='vscode-notebook-cell:Untitled-1.ipynb?jupyter-notebook#ch0000000untitled?line=22'>23</a>\u001b[0m \u001b[39m    Total gasolina: \u001b[39m\u001b[39m{\u001b[39;00m\u001b[39msum\u001b[39m(reserva_gasolina\u001b[39m.\u001b[39mvalues())\u001b[39m}\u001b[39;00m\n\u001b[0;32m     <a href='vscode-notebook-cell:Untitled-1.ipynb?jupyter-notebook#ch0000000untitled?line=23'>24</a>\u001b[0m \u001b[39m    \u001b[39m\u001b[39m\"\"\"\u001b[39m\n",
      "\u001b[1;31mTypeError\u001b[0m: reporte() got multiple values for argument 'tanque_externo'"
     ]
    }
   ],
   "source": [
    "def reporte (hra_prelanzamiento, tiempo_de_vuelo, destino, tanque_externo, tanque_interno):\n",
    "    return f\"\"\"Reporte:\n",
    "    Hora de prelanzamiento: {hra_prelanzamiento}:00\n",
    "    Tiempo de vuelo: {tiempo_de_vuelo}horas\n",
    "    Destino: {destino}\n",
    "    Tanque externo: {tanque_externo}% \n",
    "    Tanque interno: {tanque_interno}% \n",
    "    \"\"\"\n",
    "print(reporte(9, 10, \"Luna\", 100, 100))\n",
    "\n",
    "def reporte2 (destino, minutos, reserva_gasolina):\n",
    "    return f\"\"\"\n",
    "    Destino: {destino}\n",
    "    Tiempo de vuelo: {sum(minutos)}minutos\n",
    "    Total gasolina: {sum(reserva_gasolina.values())}% \n",
    "    \"\"\"\n",
    "print(reporte(\"Luna\", 90, 50, 50, tanque_interno=100, tanque_externo=100))\n",
    "\n",
    "def reporte3 (destino, minutos, reserva_gasolina):\n",
    "    principal = f\"\"\"\n",
    "    Destino: {destino}\n",
    "    Tiempo de vuelo: {sum(minutos)} minutos\n",
    "    Total gasolina: {sum(reserva_gasolina.values())}\n",
    "    \"\"\"\n",
    "    for tanque, galones in reserva_gasolina.items():\n",
    "        principal += f\"{tanque} tanque --> {galones} galones que quedan\\n\"\n",
    "    return principal\n",
    "\n",
    "print(reporte3(\"Luna\", 15, 20, 60, tanque_externo=100, tanque_interno=100))"
   ]
  }
 ],
 "metadata": {
  "interpreter": {
   "hash": "669f5abd92f1a410df15b0643b9f42360e277a412fc08ae8bc7d7911cf7e8f3d"
  },
  "kernelspec": {
   "display_name": "Python 3.10.2 64-bit",
   "language": "python",
   "name": "python3"
  },
  "language_info": {
   "codemirror_mode": {
    "name": "ipython",
    "version": 3
   },
   "file_extension": ".py",
   "mimetype": "text/x-python",
   "name": "python",
   "nbconvert_exporter": "python",
   "pygments_lexer": "ipython3",
   "version": "3.10.2"
  },
  "orig_nbformat": 4
 },
 "nbformat": 4,
 "nbformat_minor": 2
}
