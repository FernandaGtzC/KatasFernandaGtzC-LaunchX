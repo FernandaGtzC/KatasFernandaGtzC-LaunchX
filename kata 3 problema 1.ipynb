{
 "cells": [
  {
   "cell_type": "code",
   "execution_count": null,
   "metadata": {},
   "outputs": [],
   "source": [
    "print(\"Introducir la velocidad a la que se aproxima el asteroide\")\n",
    "Velocidad = int(input())\n",
    "if(Velocidad <= 24):\n",
    "    print(\"Velocidad del asteroide dentro de los parámetros\")\n",
    "elif(Velocidad >= 25):\n",
    "    print(\"El asteroide se acerca a gran velocidad\")"
   ]
  }
 ],
 "metadata": {
  "interpreter": {
   "hash": "bee6043ce4df5109e24849ca349a96460df7801d735253ccc08e261f5d8b3f92"
  },
  "kernelspec": {
   "display_name": "Python 3.10.2 64-bit (windows store)",
   "language": "python",
   "name": "python3"
  },
  "language_info": {
   "name": "python",
   "version": "3.10.2"
  },
  "orig_nbformat": 4
 },
 "nbformat": 4,
 "nbformat_minor": 2
}
