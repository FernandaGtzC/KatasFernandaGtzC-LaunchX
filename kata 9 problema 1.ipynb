{
 "cells": [
  {
   "cell_type": "code",
   "execution_count": 2,
   "metadata": {},
   "outputs": [
    {
     "name": "stdout",
     "output_type": "stream",
     "text": [
      "Reporte:\n",
      "    Promedio: 73.33333333333333%\n",
      "    Tanque 1: 50%\n",
      "    Tanque 2: 70%\n",
      "    Tanque 3: 100% \n",
      "Reporte:\n",
      "    Promedio: 116.66666666666667%\n",
      "    Tanque 1: 100%\n",
      "    Tanque 2: 120%\n",
      "    Tanque 3: 130% \n"
     ]
    }
   ],
   "source": [
    "def combustible(tanque1, tanque2, tanque3):\n",
    "    prom = (tanque1+tanque2+tanque3)/3\n",
    "    return f\"\"\"Reporte:\n",
    "    Promedio: {prom}%\n",
    "    Tanque 1: {tanque1}%\n",
    "    Tanque 2: {tanque2}%\n",
    "    Tanque 3: {tanque3}% \"\"\"\n",
    "print(combustible(50, 70, 100))\n",
    "\n",
    "def prom(valores):\n",
    "    total = sum(valores)\n",
    "    items = len(valores)\n",
    "    return total / items\n",
    "prom([50, 70, 100]) \n",
    "\n",
    "def combustible(tanque1, tanque2, tanque3):\n",
    "    return f\"\"\"Reporte:\n",
    "    Promedio: {prom([tanque1, tanque2, tanque3])}%\n",
    "    Tanque 1: {tanque1}%\n",
    "    Tanque 2: {tanque2}%\n",
    "    Tanque 3: {tanque3}% \"\"\"\n",
    "print(combustible(100, 120, 130))"
   ]
  }
 ],
 "metadata": {
  "interpreter": {
   "hash": "669f5abd92f1a410df15b0643b9f42360e277a412fc08ae8bc7d7911cf7e8f3d"
  },
  "kernelspec": {
   "display_name": "Python 3.10.2 64-bit",
   "language": "python",
   "name": "python3"
  },
  "language_info": {
   "codemirror_mode": {
    "name": "ipython",
    "version": 3
   },
   "file_extension": ".py",
   "mimetype": "text/x-python",
   "name": "python",
   "nbconvert_exporter": "python",
   "pygments_lexer": "ipython3",
   "version": "3.10.2"
  },
  "orig_nbformat": 4
 },
 "nbformat": 4,
 "nbformat_minor": 2
}
