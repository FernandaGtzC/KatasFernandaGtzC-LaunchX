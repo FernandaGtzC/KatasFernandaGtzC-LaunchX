{
 "cells": [
  {
   "cell_type": "code",
   "execution_count": null,
   "metadata": {},
   "outputs": [],
   "source": [
    "print(\"Introducir la velocidad a la que se aproxima el asteroide\")\n",
    "Velocidad = int(input())\n",
    "if(Velocidad <= 19):\n",
    "    print(\"No hay nada que ver\")\n",
    "elif(Velocidad >= 20):\n",
    "    print(\"Look up! ¡Hay una luz mágica en el cielo!\")"
   ]
  }
 ],
 "metadata": {
  "interpreter": {
   "hash": "669f5abd92f1a410df15b0643b9f42360e277a412fc08ae8bc7d7911cf7e8f3d"
  },
  "kernelspec": {
   "display_name": "Python 3.10.2 64-bit",
   "language": "python",
   "name": "python3"
  },
  "language_info": {
   "name": "python",
   "version": "3.10.2"
  },
  "orig_nbformat": 4
 },
 "nbformat": 4,
 "nbformat_minor": 2
}
