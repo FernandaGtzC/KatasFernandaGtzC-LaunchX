{
 "cells": [
  {
   "cell_type": "code",
   "execution_count": null,
   "metadata": {},
   "outputs": [],
   "source": [
    "text = \"\"\"Interesting facts about the Moon. The Moon is Earth's only satellite. There are several interesting facts about the Moon and how it affects life here on Earth.\\n \n",
    "On average, the Moon moves 4cm away from the Earth every year. This yearly drift is not significant enough to cause immediate effects on Earth. The high\"\"\"\n",
    "\n",
    "separado = text.split('. ')\n",
    "print(separado)\n",
    "palabras = [\"average\", \"temperature\", \"distance\"]\n",
    "for frase in separado:\n",
    "    for palabras in palabras:\n",
    "        if palabras in frase:\n",
    "            print(frase)\n",
    "            break\n",
    "    \n",
    "for frase in separado:\n",
    "    for palabras in palabras:\n",
    "        if palabras in frase:\n",
    "            print(frase.replace(' C', ' Celsius'))\n",
    "            break    "
   ]
  }
 ],
 "metadata": {
  "interpreter": {
   "hash": "669f5abd92f1a410df15b0643b9f42360e277a412fc08ae8bc7d7911cf7e8f3d"
  },
  "kernelspec": {
   "display_name": "Python 3.10.2 64-bit",
   "language": "python",
   "name": "python3"
  },
  "language_info": {
   "name": "python",
   "version": "3.10.2"
  },
  "orig_nbformat": 4
 },
 "nbformat": 4,
 "nbformat_minor": 2
}
