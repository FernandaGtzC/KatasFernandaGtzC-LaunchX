{
 "cells": [
  {
   "cell_type": "code",
   "execution_count": 2,
   "metadata": {},
   "outputs": [
    {
     "name": "stdout",
     "output_type": "stream",
     "text": [
      "Ingrese el nombre de un planeta iniciando con la primer letra en mayúscula\n",
      "El planeta  Venus  es el  2 planeta del sistema solar\n"
     ]
    }
   ],
   "source": [
    "planetas = [\"Mercurio\", \"Venus\", \"Tierra\", \"Marte\", \"Jupiter\", \"Saturno\", \"Urano\", \"Neptuno\"]\n",
    "print(\"Ingrese el nombre de un planeta iniciando con la primer letra en mayúscula\")\n",
    "nomplaneta = input()\n",
    "index = planetas.index(nomplaneta)\n",
    "print(\"El planeta \", nomplaneta, \" es el planeta número \", index + 1, ' del sistema solar')"
   ]
  }
 ],
 "metadata": {
  "interpreter": {
   "hash": "bee6043ce4df5109e24849ca349a96460df7801d735253ccc08e261f5d8b3f92"
  },
  "kernelspec": {
   "display_name": "Python 3.10.2 64-bit (windows store)",
   "language": "python",
   "name": "python3"
  },
  "language_info": {
   "codemirror_mode": {
    "name": "ipython",
    "version": 3
   },
   "file_extension": ".py",
   "mimetype": "text/x-python",
   "name": "python",
   "nbconvert_exporter": "python",
   "pygments_lexer": "ipython3",
   "version": "3.10.2"
  },
  "orig_nbformat": 4
 },
 "nbformat": 4,
 "nbformat_minor": 2
}
