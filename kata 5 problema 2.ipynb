{
 "cells": [
  {
   "cell_type": "code",
   "execution_count": 1,
   "metadata": {},
   "outputs": [
    {
     "name": "stdout",
     "output_type": "stream",
     "text": [
      "Introduzca la distancia del Sol en relación al primer planeta\n",
      "Introduzca la distancia del Sol en relación al segundo planeta\n",
      "La distancia es:  2247920183068.2\n"
     ]
    }
   ],
   "source": [
    "print(\"Introduzca la distancia del Sol en relación al primer planeta\")\n",
    "planeta1 = int(input())\n",
    "print(\"Introduzca la distancia del Sol en relación al segundo planeta\")\n",
    "planeta2 = int(input())\n",
    "distanciakm = planeta1 - planeta2\n",
    "distanciamillas = (planeta1 - planeta2)*.621\n",
    "print(\"La distancia en kilómetros es: \", abs(distanciakm))\n",
    "print(\"La distancia en milas es: \", abs(distanciamillas))"
   ]
  }
 ],
 "metadata": {
  "interpreter": {
   "hash": "bee6043ce4df5109e24849ca349a96460df7801d735253ccc08e261f5d8b3f92"
  },
  "kernelspec": {
   "display_name": "Python 3.10.2 64-bit (windows store)",
   "language": "python",
   "name": "python3"
  },
  "language_info": {
   "codemirror_mode": {
    "name": "ipython",
    "version": 3
   },
   "file_extension": ".py",
   "mimetype": "text/x-python",
   "name": "python",
   "nbconvert_exporter": "python",
   "pygments_lexer": "ipython3",
   "version": "3.10.2"
  },
  "orig_nbformat": 4
 },
 "nbformat": 4,
 "nbformat_minor": 2
}
