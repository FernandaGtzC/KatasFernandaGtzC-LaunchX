{
 "cells": [
  {
   "cell_type": "code",
   "execution_count": 3,
   "metadata": {},
   "outputs": [
    {
     "name": "stdout",
     "output_type": "stream",
     "text": [
      "La distancia entre la tierra y jupiter en kilómetros es de:  628949330\n",
      "La distancia entre la tierra y jupiter en millas es de:  39057753.393\n"
     ]
    }
   ],
   "source": [
    "tierra = 149597870 \n",
    "jupiter = 778547200\n",
    "distanciakm = jupiter - tierra\n",
    "distanciamillas = (jupiter - tierra )*.0621\n",
    "print(\"La distancia entre la tierra y jupiter en kilómetros es de: \", distanciakm)\n",
    "print(\"La distancia entre la tierra y jupiter en millas es de: \", distanciamillas)"
   ]
  }
 ],
 "metadata": {
  "interpreter": {
   "hash": "bee6043ce4df5109e24849ca349a96460df7801d735253ccc08e261f5d8b3f92"
  },
  "kernelspec": {
   "display_name": "Python 3.10.2 64-bit (windows store)",
   "language": "python",
   "name": "python3"
  },
  "language_info": {
   "codemirror_mode": {
    "name": "ipython",
    "version": 3
   },
   "file_extension": ".py",
   "mimetype": "text/x-python",
   "name": "python",
   "nbconvert_exporter": "python",
   "pygments_lexer": "ipython3",
   "version": "3.10.2"
  },
  "orig_nbformat": 4
 },
 "nbformat": 4,
 "nbformat_minor": 2
}
